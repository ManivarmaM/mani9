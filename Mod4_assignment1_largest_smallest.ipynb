{
 "cells": [
  {
   "cell_type": "code",
   "execution_count": 2,
   "metadata": {},
   "outputs": [
    {
     "name": "stdout",
     "output_type": "stream",
     "text": [
      "No of numbers: 3\n",
      "Enter no5\n",
      "Enter no9\n",
      "Enter no1\n",
      "Maximum no in the list is : 9\n",
      "Minimum no in the list is : 1\n"
     ]
    }
   ],
   "source": [
    "lst=[]\n",
    "num=int(input('No of numbers: '))\n",
    "for n in range(num):\n",
    "    numbers = int(input('Enter no'))\n",
    "    lst.append(numbers)\n",
    "print(\"Maxim no in the list is :\", max(lst))\n",
    "print(\"Minimum no in the list is :\", min(lst))"
   ]
  },
  {
   "cell_type": "code",
   "execution_count": null,
   "metadata": {},
   "outputs": [],
   "source": []
  },
  {
   "cell_type": "code",
   "execution_count": null,
   "metadata": {},
   "outputs": [],
   "source": []
  }
 ],
 "metadata": {
  "kernelspec": {
   "display_name": "Python 3",
   "language": "python",
   "name": "python3"
  },
  "language_info": {
   "codemirror_mode": {
    "name": "ipython",
    "version": 3
   },
   "file_extension": ".py",
   "mimetype": "text/x-python",
   "name": "python",
   "nbconvert_exporter": "python",
   "pygments_lexer": "ipython3",
   "version": "3.8.3"
  }
 },
 "nbformat": 4,
 "nbformat_minor": 4
}
